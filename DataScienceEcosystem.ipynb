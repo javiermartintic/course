{
 "cells": [
  {
   "cell_type": "markdown",
   "id": "2d10bdfa-b5ff-49e2-b376-ecd5f2bd082b",
   "metadata": {
    "tags": []
   },
   "source": [
    "# Data Science Tools and Ecosystem"
   ]
  },
  {
   "cell_type": "markdown",
   "id": "aadf7914-4128-4df1-92a3-d6f85cc66950",
   "metadata": {},
   "source": [
    "In this notebook, Data Science Tools and Ecosystem are summarized."
   ]
  },
  {
   "cell_type": "markdown",
   "id": "c54510f7-63e2-4db0-97ae-b6763db42038",
   "metadata": {},
   "source": [
    "Some of the popular languages that Data Scientists use are:\n",
    "\n",
    "1. Python\n",
    "2. R\n",
    "3. SQL\n",
    "4. Julia\n",
    "5. Scala\n"
   ]
  },
  {
   "cell_type": "markdown",
   "id": "a5ba1518-ee50-4d92-82e7-3334521f8886",
   "metadata": {},
   "source": [
    "Some of the commonly used libraries used by Data Scientists include:\n",
    "\n",
    "1. NumPy\n",
    "2. pandas\n",
    "3. Matplotlib\n",
    "4. scikit-learn\n",
    "5. TensorFlow\n"
   ]
  },
  {
   "cell_type": "markdown",
   "id": "a94a1cc7-724e-42cb-ac18-58af2aac4216",
   "metadata": {},
   "source": [
    "| Data Science Tools  |\n",
    "|---------------------|\n",
    "| Jupyter Notebook    |\n",
    "| RStudio             |\n",
    "| Spyder              |\n",
    "| VS Code with Python extension |\n",
    "| PyCharm             |\n"
   ]
  },
  {
   "cell_type": "markdown",
   "id": "92b47fb4-f113-4b67-961a-55923d2f096e",
   "metadata": {},
   "source": [
    "### Below are a few examples of evaluating arithmetic expressions in Python"
   ]
  },
  {
   "cell_type": "code",
   "execution_count": 3,
   "id": "1fc9ea49-8925-4b7d-ae2b-81c0d17be31a",
   "metadata": {
    "tags": []
   },
   "outputs": [
    {
     "name": "stdout",
     "output_type": "stream",
     "text": [
      "17\n"
     ]
    }
   ],
   "source": [
    "sum = (3*4)+5\n",
    "# This a simple arithmetic expression to mutiply then add integers.\n",
    "print(sum)"
   ]
  },
  {
   "cell_type": "code",
   "execution_count": 4,
   "id": "55d7b4db-1ffb-419d-9956-31632b9fe99e",
   "metadata": {
    "tags": []
   },
   "outputs": [
    {
     "name": "stdout",
     "output_type": "stream",
     "text": [
      "3.3333333333333335\n"
     ]
    }
   ],
   "source": [
    "#This will convert 200 minutes to hours by diving by 60\n",
    "def minutes_to_hours(minutes):\n",
    "    return minutes / 60\n",
    "\n",
    "print(minutes_to_hours(200))"
   ]
  },
  {
   "cell_type": "markdown",
   "id": "19cce489-5ed5-4033-921e-150f04b7a7b1",
   "metadata": {},
   "source": [
    "**Objectives:**\n",
    "\n",
    "- List popular languages for Data Science.\n",
    "- Explore common tools used in Data Science.\n",
    "- Demonstrate evaluation of arithmetic expressions in Python.\n",
    "- Discuss libraries commonly used for Data Science tasks.\n",
    "- Highlight key considerations when choosing a development environment for Data Science.\n"
   ]
  },
  {
   "cell_type": "markdown",
   "id": "e6cc49a2-b744-458a-87de-b9ac59c8a07d",
   "metadata": {},
   "source": [
    "## Author\n",
    "\n",
    "Javier Martín Gómez\n"
   ]
  }
 ],
 "metadata": {
  "kernelspec": {
   "display_name": "Python",
   "language": "python",
   "name": "conda-env-python-py"
  },
  "language_info": {
   "codemirror_mode": {
    "name": "ipython",
    "version": 3
   },
   "file_extension": ".py",
   "mimetype": "text/x-python",
   "name": "python",
   "nbconvert_exporter": "python",
   "pygments_lexer": "ipython3",
   "version": "3.7.12"
  }
 },
 "nbformat": 4,
 "nbformat_minor": 5
}
